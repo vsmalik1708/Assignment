{
 "cells": [
  {
   "cell_type": "code",
   "execution_count": 2,
   "id": "33ba187c-9aa3-46f8-b6a0-a12f1bf826e9",
   "metadata": {},
   "outputs": [],
   "source": [
    "d6 = {'number' : [2,3,4,5,6], 'assignment' : (1,2,3,4,5), 'launsh_date' : {28,12,14}, \"class_time\" : {\"web_dev\" : 8, \"data science masters\": 9,\"java with dsa\" : 7}}"
   ]
  },
  {
   "cell_type": "code",
   "execution_count": 2,
   "id": "4f8adaf3-85cd-4b3c-acc8-e6214246f131",
   "metadata": {},
   "outputs": [
    {
     "data": {
      "text/plain": [
       "{'number': [2, 3, 4, 5, 6],\n",
       " 'assignment': (1, 2, 3, 4, 5),\n",
       " 'launsh_date': {12, 14, 28},\n",
       " 'class_time': {'web_dev': 8, 'data science masters': 9, 'java with dsa': 7}}"
      ]
     },
     "execution_count": 2,
     "metadata": {},
     "output_type": "execute_result"
    }
   ],
   "source": [
    "d6"
   ]
  },
  {
   "cell_type": "code",
   "execution_count": 4,
   "id": "fab7e29e-8294-46dc-b56a-372c906b38a9",
   "metadata": {},
   "outputs": [
    {
     "data": {
      "text/plain": [
       "7"
      ]
     },
     "execution_count": 4,
     "metadata": {},
     "output_type": "execute_result"
    }
   ],
   "source": [
    "d6[\"class_time\"][\"java with dsa\"]"
   ]
  },
  {
   "cell_type": "code",
   "execution_count": 5,
   "id": "e738feb0-357b-4a43-8d1f-a497d5894257",
   "metadata": {},
   "outputs": [
    {
     "data": {
      "text/plain": [
       "{'number': [2, 3, 4, 5, 6],\n",
       " 'assignment': (1, 2, 3, 4, 5),\n",
       " 'launsh_date': {12, 14, 28},\n",
       " 'class_time': {'web_dev': 8, 'data science masters': 9, 'java with dsa': 7}}"
      ]
     },
     "execution_count": 5,
     "metadata": {},
     "output_type": "execute_result"
    }
   ],
   "source": [
    "d6"
   ]
  },
  {
   "cell_type": "code",
   "execution_count": 6,
   "id": "ae101ed1-0217-4148-b95d-86b5dd7f22b1",
   "metadata": {},
   "outputs": [],
   "source": [
    "d6[\"mentor\"] = [\"sudhanshu\", \" krish\", \"anurag\", \"hayder\"]"
   ]
  },
  {
   "cell_type": "code",
   "execution_count": 7,
   "id": "56541238-23d3-4567-be1d-3e334eb4f83e",
   "metadata": {},
   "outputs": [
    {
     "data": {
      "text/plain": [
       "{'number': [2, 3, 4, 5, 6],\n",
       " 'assignment': (1, 2, 3, 4, 5),\n",
       " 'launsh_date': {12, 14, 28},\n",
       " 'class_time': {'web_dev': 8, 'data science masters': 9, 'java with dsa': 7},\n",
       " 'mentor': ['sudhanshu', ' krish', 'anurag', 'hayder']}"
      ]
     },
     "execution_count": 7,
     "metadata": {},
     "output_type": "execute_result"
    }
   ],
   "source": [
    "d6"
   ]
  },
  {
   "cell_type": "code",
   "execution_count": 8,
   "id": "82081600-1e22-4139-a59e-5844fd179d11",
   "metadata": {},
   "outputs": [],
   "source": [
    "del d6[\"number\"]"
   ]
  },
  {
   "cell_type": "code",
   "execution_count": 9,
   "id": "a5f94c16-4098-4bac-835c-068a8d597db2",
   "metadata": {},
   "outputs": [
    {
     "data": {
      "text/plain": [
       "{'assignment': (1, 2, 3, 4, 5),\n",
       " 'launsh_date': {12, 14, 28},\n",
       " 'class_time': {'web_dev': 8, 'data science masters': 9, 'java with dsa': 7},\n",
       " 'mentor': ['sudhanshu', ' krish', 'anurag', 'hayder']}"
      ]
     },
     "execution_count": 9,
     "metadata": {},
     "output_type": "execute_result"
    }
   ],
   "source": [
    "d6"
   ]
  },
  {
   "cell_type": "code",
   "execution_count": 11,
   "id": "ace34021-e770-4fa7-b1dd-77d084c5e861",
   "metadata": {},
   "outputs": [
    {
     "data": {
      "text/plain": [
       "['assignment', 'launsh_date', 'class_time', 'mentor']"
      ]
     },
     "execution_count": 11,
     "metadata": {},
     "output_type": "execute_result"
    }
   ],
   "source": [
    "list(d6.keys())"
   ]
  },
  {
   "cell_type": "code",
   "execution_count": 13,
   "id": "5b455375-2426-4e5a-b25b-7ec240721531",
   "metadata": {},
   "outputs": [
    {
     "data": {
      "text/plain": [
       "[(1, 2, 3, 4, 5),\n",
       " {12, 14, 28},\n",
       " {'web_dev': 8, 'data science masters': 9, 'java with dsa': 7},\n",
       " ['sudhanshu', ' krish', 'anurag', 'hayder']]"
      ]
     },
     "execution_count": 13,
     "metadata": {},
     "output_type": "execute_result"
    }
   ],
   "source": [
    "list(d6.values())"
   ]
  },
  {
   "cell_type": "code",
   "execution_count": 4,
   "id": "7ac5340b-ea7d-4957-8b17-ee1f609cf8a4",
   "metadata": {},
   "outputs": [
    {
     "data": {
      "text/plain": [
       "[('number', [2, 3, 4, 5, 6]),\n",
       " ('assignment', (1, 2, 3, 4, 5)),\n",
       " ('launsh_date', {12, 14, 28}),\n",
       " ('class_time', {'web_dev': 8, 'data science masters': 9, 'java with dsa': 7})]"
      ]
     },
     "execution_count": 4,
     "metadata": {},
     "output_type": "execute_result"
    }
   ],
   "source": [
    "list(d6.items())"
   ]
  },
  {
   "cell_type": "code",
   "execution_count": 6,
   "id": "918bc463-b950-433b-b01f-4d1a8d55de29",
   "metadata": {},
   "outputs": [
    {
     "data": {
      "text/plain": [
       "(1, 2, 3, 4, 5)"
      ]
     },
     "execution_count": 6,
     "metadata": {},
     "output_type": "execute_result"
    }
   ],
   "source": [
    "d6.pop(\"assignment\")"
   ]
  },
  {
   "cell_type": "code",
   "execution_count": 7,
   "id": "d710c081-9f4b-4284-b9ac-3ec769c8df33",
   "metadata": {},
   "outputs": [
    {
     "data": {
      "text/plain": [
       "{'number': [2, 3, 4, 5, 6],\n",
       " 'launsh_date': {12, 14, 28},\n",
       " 'class_time': {'web_dev': 8, 'data science masters': 9, 'java with dsa': 7}}"
      ]
     },
     "execution_count": 7,
     "metadata": {},
     "output_type": "execute_result"
    }
   ],
   "source": [
    "d6"
   ]
  },
  {
   "cell_type": "code",
   "execution_count": 9,
   "id": "958c7395-aa7b-4b18-9808-7027971c5a9b",
   "metadata": {},
   "outputs": [
    {
     "name": "stdin",
     "output_type": "stream",
     "text": [
      "Enter your marks 90\n"
     ]
    },
    {
     "name": "stdout",
     "output_type": "stream",
     "text": [
      "you will be a part of A0 batch\n"
     ]
    }
   ],
   "source": [
    "marks = int(input(\"Enter your marks\"))\n",
    "if marks >= 80:\n",
    "    print(\"you will be a part of A0 batch\")\n",
    "elif marks >= 60 and marks < 80 :\n",
    "    print(\"you will be a part of A1 batch\")\n",
    "elif marks >= 40and marks < 60 :\n",
    "    print(\"you will be a part of A2 batch\")\n",
    "else :\n",
    "    print(\"you will be a part of A3 batch\")"
   ]
  },
  {
   "cell_type": "code",
   "execution_count": 18,
   "id": "f766e92c-37aa-4907-a8d1-c5976bec6ba1",
   "metadata": {},
   "outputs": [
    {
     "name": "stdin",
     "output_type": "stream",
     "text": [
      "enter price 4848\n"
     ]
    },
    {
     "name": "stdout",
     "output_type": "stream",
     "text": [
      "I will not purchase\n"
     ]
    }
   ],
   "source": [
    "price = int(input(\"enter price\"))\n",
    "if price > 1000:\n",
    "    print(\"I will not purchase\")\n",
    "    if price > 5000:\n",
    "        print(\"The price is too high\")\n",
    "    elif price < 2000:\n",
    "        print(\"The price is okay\")\n",
    "else :\n",
    "    print(\"I will purchase\")\n",
    "    print(\"not interested\")"
   ]
  },
  {
   "cell_type": "code",
   "execution_count": 20,
   "id": "a6b962a3-14bb-4fce-bb3b-78a4012738f2",
   "metadata": {},
   "outputs": [],
   "source": [
    "l = [1,2,3,4,5,6,7,8]"
   ]
  },
  {
   "cell_type": "code",
   "execution_count": 21,
   "id": "4614ff36-17b3-476f-818c-e5489e4cdd3e",
   "metadata": {},
   "outputs": [
    {
     "data": {
      "text/plain": [
       "[1, 2, 3, 4, 5, 6, 7, 8]"
      ]
     },
     "execution_count": 21,
     "metadata": {},
     "output_type": "execute_result"
    }
   ],
   "source": [
    "l"
   ]
  },
  {
   "cell_type": "code",
   "execution_count": 23,
   "id": "e76acf25-1d60-46df-9bdc-35afaef7f2cd",
   "metadata": {},
   "outputs": [
    {
     "data": {
      "text/plain": [
       "2"
      ]
     },
     "execution_count": 23,
     "metadata": {},
     "output_type": "execute_result"
    }
   ],
   "source": [
    "l[0] + 1"
   ]
  },
  {
   "cell_type": "code",
   "execution_count": 24,
   "id": "1b438a2b-d47f-4f56-84b2-6830634f0434",
   "metadata": {},
   "outputs": [],
   "source": [
    "l1 =[]"
   ]
  },
  {
   "cell_type": "code",
   "execution_count": 25,
   "id": "ee0f7054-0bb1-4d0c-a104-77bc1904aff3",
   "metadata": {},
   "outputs": [],
   "source": [
    "l1.append(l[0] + 1)"
   ]
  },
  {
   "cell_type": "code",
   "execution_count": 26,
   "id": "5f1077a4-2222-4368-845d-3b3959d291bd",
   "metadata": {},
   "outputs": [
    {
     "data": {
      "text/plain": [
       "[2]"
      ]
     },
     "execution_count": 26,
     "metadata": {},
     "output_type": "execute_result"
    }
   ],
   "source": [
    "l1"
   ]
  },
  {
   "cell_type": "code",
   "execution_count": 27,
   "id": "9a348086-e1cc-4f43-960e-9a97a8ca1218",
   "metadata": {},
   "outputs": [],
   "source": [
    "l = [1,2,3,4,5,6,7,8]"
   ]
  },
  {
   "cell_type": "code",
   "execution_count": 33,
   "id": "b776b37f-b5e6-48ee-a20c-56bbeca4af6f",
   "metadata": {},
   "outputs": [
    {
     "name": "stdout",
     "output_type": "stream",
     "text": [
      "2\n",
      "3\n",
      "4\n",
      "5\n",
      "6\n",
      "7\n",
      "8\n",
      "9\n"
     ]
    },
    {
     "data": {
      "text/plain": [
       "[2, 3, 4, 5, 6, 7, 8, 9]"
      ]
     },
     "execution_count": 33,
     "metadata": {},
     "output_type": "execute_result"
    }
   ],
   "source": [
    "l1 = []\n",
    "for i in l:\n",
    "    print(i+1)\n",
    "    l1.append(i+1)\n",
    "l1"
   ]
  },
  {
   "cell_type": "code",
   "execution_count": 34,
   "id": "235abaed-7463-416c-8bfc-4ae1393a9461",
   "metadata": {},
   "outputs": [
    {
     "data": {
      "text/plain": [
       "[1, 2, 3, 4, 5, 6, 7, 8]"
      ]
     },
     "execution_count": 34,
     "metadata": {},
     "output_type": "execute_result"
    }
   ],
   "source": [
    "l"
   ]
  },
  {
   "cell_type": "code",
   "execution_count": 35,
   "id": "6aff3b10-5618-4586-b7c4-9c8ed63fbbdc",
   "metadata": {},
   "outputs": [],
   "source": [
    "l = [\"sudh\",\"kumar\",\"pwskills\", \"course\"]"
   ]
  },
  {
   "cell_type": "code",
   "execution_count": 43,
   "id": "476c840b-af3d-4623-b520-bd8742d09f71",
   "metadata": {},
   "outputs": [
    {
     "name": "stdout",
     "output_type": "stream",
     "text": [
      "sudh\n",
      "kumar\n",
      "pwskills\n",
      "course\n"
     ]
    }
   ],
   "source": [
    "l2 = []\n",
    "for i in l:\n",
    "    print(i)\n",
    "    l2.append(i.upper())"
   ]
  },
  {
   "cell_type": "code",
   "execution_count": 45,
   "id": "67c44bae-b7c4-4493-a63c-92b94d60bd57",
   "metadata": {},
   "outputs": [
    {
     "data": {
      "text/plain": [
       "['SUDH', 'KUMAR', 'PWSKILLS', 'COURSE']"
      ]
     },
     "execution_count": 45,
     "metadata": {},
     "output_type": "execute_result"
    }
   ],
   "source": [
    "l2\n"
   ]
  },
  {
   "cell_type": "code",
   "execution_count": 46,
   "id": "0aa4e89f-31ae-49d1-81f7-4c71e9118a11",
   "metadata": {},
   "outputs": [],
   "source": [
    "l3 = [1,2,3,4,4, \"sudh\",\"kumar\", 324, 34.456, \"abc\"]"
   ]
  },
  {
   "cell_type": "code",
   "execution_count": 49,
   "id": "ad53337c-b808-4fca-92f0-3a03ea58af05",
   "metadata": {},
   "outputs": [],
   "source": [
    "l4 = []\n",
    "l5 = []\n",
    "for i in l3 :\n",
    "    if type(i) == int or type(i) == float :\n",
    "        l4.append(i)\n",
    "    else :\n",
    "        l5.append(i)"
   ]
  },
  {
   "cell_type": "code",
   "execution_count": 50,
   "id": "d2fa6d9c-afd6-4e72-a1ad-0206ff8a1e5b",
   "metadata": {},
   "outputs": [
    {
     "data": {
      "text/plain": [
       "['sudh', 'kumar', 'abc']"
      ]
     },
     "execution_count": 50,
     "metadata": {},
     "output_type": "execute_result"
    }
   ],
   "source": [
    "\n",
    "l5"
   ]
  },
  {
   "cell_type": "code",
   "execution_count": 51,
   "id": "22adee81-e8f5-436c-99cb-6838058b3b7d",
   "metadata": {},
   "outputs": [
    {
     "data": {
      "text/plain": [
       "[1, 2, 3, 4, 4, 324, 34.456]"
      ]
     },
     "execution_count": 51,
     "metadata": {},
     "output_type": "execute_result"
    }
   ],
   "source": [
    "l4"
   ]
  },
  {
   "cell_type": "code",
   "execution_count": null,
   "id": "a4df087e-ffd7-4845-8516-4283e3c7104a",
   "metadata": {},
   "outputs": [],
   "source": []
  }
 ],
 "metadata": {
  "kernelspec": {
   "display_name": "Python 3 (ipykernel)",
   "language": "python",
   "name": "python3"
  },
  "language_info": {
   "codemirror_mode": {
    "name": "ipython",
    "version": 3
   },
   "file_extension": ".py",
   "mimetype": "text/x-python",
   "name": "python",
   "nbconvert_exporter": "python",
   "pygments_lexer": "ipython3",
   "version": "3.10.6"
  }
 },
 "nbformat": 4,
 "nbformat_minor": 5
}
